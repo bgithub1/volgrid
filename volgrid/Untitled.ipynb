{
 "cells": [
  {
   "cell_type": "code",
   "execution_count": 1,
   "metadata": {},
   "outputs": [],
   "source": [
    "import dash\n",
    "import sys,os\n",
    "if  not os.path.abspath('./') in sys.path:\n",
    "    sys.path.append(os.path.abspath('./'))\n",
    "if  not os.path.abspath('../') in sys.path:\n",
    "    sys.path.append(os.path.abspath('../'))\n",
    "sys.path.append(os.path.abspath('../../dashgrid'))\n",
    "sys.path.append(os.path.abspath('../../dashgrid/dashgrid'))\n",
    "from dashgrid import dgrid\n",
    "import dash_html_components as html\n",
    "import dash_core_components as dcc\n",
    "from dash.dependencies import Input, Output,State\n",
    "import dash_table\n",
    "import pandas as pd\n",
    "import numpy as np\n",
    "from dashgrid import dgrid\n"
   ]
  },
  {
   "cell_type": "code",
   "execution_count": 2,
   "metadata": {},
   "outputs": [],
   "source": [
    "def create_dt_div(df_in=None,\n",
    "                  editable_columns_in=None,title='Dash Table'):\n",
    "    editable_columns = [] if editable_columns_in is None else editable_columns_in\n",
    "#     datatable_id = f'{html_id}_datatable'\n",
    "    dt = dash_table.DataTable(\n",
    "        page_current= 0,\n",
    "        page_size= 100,\n",
    "        page_action='native',\n",
    "        sort_action='native',\n",
    "        filter_action='none', # 'fe',\n",
    "#             content_style='grow',\n",
    "        style_cell_conditional=[\n",
    "            {\n",
    "                'if': {'row_index': 'odd'},\n",
    "                'backgroundColor': 'rgb(248, 248, 248)'\n",
    "            }\n",
    "        ] + [\n",
    "            {\n",
    "                'if': {'column_id': c},\n",
    "                'textAlign': 'left',\n",
    "            } for c in ['symbol', 'underlying']\n",
    "        ],\n",
    "\n",
    "        style_as_list_view=False,\n",
    "        style_table={\n",
    "            'maxHeight':'450','overflowX': 'scroll',\n",
    "        } ,\n",
    "        editable=True,\n",
    "        css=[{\"selector\": \"table\", \"rule\": \"width: 100%;\"}],\n",
    "#         id=datatable_id\n",
    "    )\n",
    "    if df_in is None:\n",
    "        df = pd.DataFrame({'no_data':['empty']})\n",
    "    else:\n",
    "        df = df_in.copy()\n",
    "    dt.data=df.to_dict(\"rows\")\n",
    "    dt.columns=[{\"name\": i, \"id\": i,'editable': True if i in editable_columns else False} for i in df.columns.values]                    \n",
    "    child_div = html.Div([html.H4(title,style={'height':'3px'}),dt])\n",
    "    return child_div\n",
    "\n",
    "def file_store_transformer(contents):\n",
    "    if contents is None or len(contents)<=0 or contents[0] is None:\n",
    "        d =  None\n",
    "    else:\n",
    "        d = dgrid.parse_contents(contents).to_dict('rows')\n",
    "    return d\n"
   ]
  },
  {
   "cell_type": "code",
   "execution_count": 3,
   "metadata": {},
   "outputs": [
    {
     "data": {
      "text/plain": [
       "<function dashgrid.dgrid.ComponentWrapper.callback.<locals>.execute_callback(*inputs_and_states)>"
      ]
     },
     "execution_count": 3,
     "metadata": {},
     "output_type": "execute_result"
    }
   ],
   "source": [
    "button_style={\n",
    "    'line-height': '40px',\n",
    "    'borderWidth': '1px',\n",
    "    'borderStyle': 'dashed',\n",
    "    'borderRadius': '1px',\n",
    "    'textAlign': 'center',\n",
    "    'background-color':'#fffff0',\n",
    "    'vertical-align':'middle',\n",
    "}\n",
    "u1 = dcc.Upload(\n",
    "            id='u1',\n",
    "            children=html.Div(['enter a csv file']),\n",
    "            # Allow multiple files to be uploaded\n",
    "            multiple=False,\n",
    "            style=button_style)\n",
    "\n",
    "s1 = dcc.Store(id='s1')\n",
    "s2 = dcc.Store(id='s2')\n",
    "\n",
    "dt1 = html.Div([create_dt_div()],id='dt1')\n",
    "\n",
    "u1_lambda = lambda value_list: [None,None] if value_list[0] is None else [file_store_transformer(value_list[0]),None]\n",
    "u1_comp = dgrid.ComponentWrapper(u1,\n",
    "                 input__tuples=[(u1.id,'contents')],\n",
    "                 output_tuples=[(s1.id,'data'),(s2.id,'data')],\n",
    "                 callback_input_transformer=u1_lambda)\n",
    "\n",
    "dt1_lambda = lambda value_list: [None] if value_list[0] is None else [create_dt_div(pd.DataFrame(value_list[0]))]\n",
    "dt1_comp = dgrid.ComponentWrapper(dt1,\n",
    "                 input__tuples=[(s1.id,'data')],\n",
    "                 output_tuples=[(dt1.id,'children')],\n",
    "                 callback_input_transformer=dt1_lambda)\n",
    "\n",
    "\n",
    "app = dash.Dash()\n",
    "app.layout = html.Div([u1_comp.html,s1,s2,dt1_comp.html])\n",
    "# [c.callback(app) for c in [u1_comp,dt1_comp]]\n",
    "u1_comp.callback(app)\n",
    "dt1_comp.callback(app)\n",
    "\n"
   ]
  },
  {
   "cell_type": "code",
   "execution_count": null,
   "metadata": {},
   "outputs": [
    {
     "name": "stdout",
     "output_type": "stream",
     "text": [
      " * Serving Flask app \"__main__\" (lazy loading)\n",
      " * Environment: production\n",
      "   WARNING: Do not use the development server in a production environment.\n",
      "   Use a production WSGI server instead.\n",
      " * Debug mode: off\n"
     ]
    },
    {
     "name": "stderr",
     "output_type": "stream",
     "text": [
      "2019-07-17 17:52:45,229 - werkzeug - INFO -  * Running on http://127.0.0.1:8500/ (Press CTRL+C to quit)\n",
      "2019-07-17 17:52:49,553 - werkzeug - INFO - 127.0.0.1 - - [17/Jul/2019 17:52:49] \"GET / HTTP/1.1\" 200 -\n",
      "2019-07-17 17:52:49,617 - werkzeug - INFO - 127.0.0.1 - - [17/Jul/2019 17:52:49] \"GET /_dash-component-suites/dash_renderer/prop-types@15.7.2.min.js?v=1.0.0&m=1563025507 HTTP/1.1\" 200 -\n",
      "2019-07-17 17:52:49,620 - werkzeug - INFO - 127.0.0.1 - - [17/Jul/2019 17:52:49] \"GET /_dash-component-suites/dash_renderer/react@16.8.6.min.js?v=1.0.0&m=1563025507 HTTP/1.1\" 200 -\n",
      "2019-07-17 17:52:49,641 - werkzeug - INFO - 127.0.0.1 - - [17/Jul/2019 17:52:49] \"GET /_dash-component-suites/dash_renderer/react-dom@16.8.6.min.js?v=1.0.0&m=1563025507 HTTP/1.1\" 200 -\n",
      "2019-07-17 17:52:49,642 - werkzeug - INFO - 127.0.0.1 - - [17/Jul/2019 17:52:49] \"GET /_dash-component-suites/dash_core_components/highlight.pack.js?v=1.0.0&m=1563025508 HTTP/1.1\" 200 -\n",
      "2019-07-17 17:52:49,649 - werkzeug - INFO - 127.0.0.1 - - [17/Jul/2019 17:52:49] \"GET /_dash-component-suites/dash_html_components/dash_html_components.min.js?v=1.0.0&m=1563025508 HTTP/1.1\" 200 -\n",
      "2019-07-17 17:52:49,651 - werkzeug - INFO - 127.0.0.1 - - [17/Jul/2019 17:52:49] \"GET /_dash-component-suites/dash_table/bundle.js?v=4.0.1&m=1563025509 HTTP/1.1\" 200 -\n",
      "2019-07-17 17:52:49,684 - werkzeug - INFO - 127.0.0.1 - - [17/Jul/2019 17:52:49] \"GET /_dash-component-suites/dash_renderer/dash_renderer.min.js?v=1.0.0&m=1563025507 HTTP/1.1\" 200 -\n",
      "2019-07-17 17:52:49,725 - werkzeug - INFO - 127.0.0.1 - - [17/Jul/2019 17:52:49] \"GET /_dash-component-suites/dash_core_components/dash_core_components.min.js?v=1.0.0&m=1563025508 HTTP/1.1\" 200 -\n",
      "2019-07-17 17:52:49,815 - werkzeug - INFO - 127.0.0.1 - - [17/Jul/2019 17:52:49] \"GET /_dash-component-suites/dash_core_components/plotly-1.48.3.min.js?v=1.0.0&m=1563025508 HTTP/1.1\" 200 -\n",
      "2019-07-17 17:52:50,263 - werkzeug - INFO - 127.0.0.1 - - [17/Jul/2019 17:52:50] \"GET /_dash-layout HTTP/1.1\" 200 -\n",
      "2019-07-17 17:52:50,264 - werkzeug - INFO - 127.0.0.1 - - [17/Jul/2019 17:52:50] \"GET /_dash-dependencies HTTP/1.1\" 200 -\n",
      "2019-07-17 17:52:50,295 - werkzeug - INFO - 127.0.0.1 - - [17/Jul/2019 17:52:50] \"POST /_dash-update-component HTTP/1.1\" 200 -\n",
      "2019-07-17 17:52:50,299 - werkzeug - INFO - 127.0.0.1 - - [17/Jul/2019 17:52:50] \"POST /_dash-update-component HTTP/1.1\" 200 -\n",
      "2019-07-17 17:52:50,370 - werkzeug - INFO - 127.0.0.1 - - [17/Jul/2019 17:52:50] \"POST /_dash-update-component HTTP/1.1\" 200 -\n",
      "2019-07-17 17:52:56,900 - werkzeug - INFO - 127.0.0.1 - - [17/Jul/2019 17:52:56] \"POST /_dash-update-component HTTP/1.1\" 200 -\n",
      "2019-07-17 17:52:56,935 - werkzeug - INFO - 127.0.0.1 - - [17/Jul/2019 17:52:56] \"POST /_dash-update-component HTTP/1.1\" 200 -\n"
     ]
    }
   ],
   "source": [
    "app.run_server(host='127.0.0.1',port=8500)"
   ]
  },
  {
   "cell_type": "code",
   "execution_count": null,
   "metadata": {},
   "outputs": [],
   "source": []
  },
  {
   "cell_type": "code",
   "execution_count": null,
   "metadata": {},
   "outputs": [],
   "source": []
  }
 ],
 "metadata": {
  "kernelspec": {
   "display_name": "Python 3",
   "language": "python",
   "name": "python3"
  },
  "language_info": {
   "codemirror_mode": {
    "name": "ipython",
    "version": 3
   },
   "file_extension": ".py",
   "mimetype": "text/x-python",
   "name": "python",
   "nbconvert_exporter": "python",
   "pygments_lexer": "ipython3",
   "version": "3.6.5"
  }
 },
 "nbformat": 4,
 "nbformat_minor": 2
}
