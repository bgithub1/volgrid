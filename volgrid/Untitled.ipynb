{
 "cells": [
  {
   "cell_type": "code",
   "execution_count": 1,
   "metadata": {},
   "outputs": [],
   "source": [
    "import dash\n",
    "import sys,os\n",
    "if  not os.path.abspath('./') in sys.path:\n",
    "    sys.path.append(os.path.abspath('./'))\n",
    "if  not os.path.abspath('../') in sys.path:\n",
    "    sys.path.append(os.path.abspath('../'))\n",
    "sys.path.append(os.path.abspath('../../dashgrid'))\n",
    "sys.path.append(os.path.abspath('../../dashgrid/dashgrid'))\n",
    "from dashgrid import dgrid\n",
    "import dash_html_components as html\n",
    "import dash_core_components as dcc\n",
    "from dash.dependencies import Input, Output,State\n",
    "import dash_table\n",
    "import pandas as pd\n",
    "import numpy as np\n",
    "from dashgrid import dgrid\n"
   ]
  },
  {
   "cell_type": "code",
   "execution_count": 2,
   "metadata": {},
   "outputs": [],
   "source": [
    "def create_dt_div(dtable_id,df_in=None,\n",
    "                  columns_to_display=None,\n",
    "                  editable_columns_in=None,\n",
    "                  title='Dash Table'):\n",
    "    editable_columns = [] if editable_columns_in is None else editable_columns_in\n",
    "    datatable_id = dtable_id\n",
    "    dt = dash_table.DataTable(\n",
    "        page_current= 0,\n",
    "        page_size= 100,\n",
    "        page_action='native',\n",
    "        sort_action='native',\n",
    "        filter_action='none', # 'fe',\n",
    "#             content_style='grow',\n",
    "        style_cell_conditional=[\n",
    "            {\n",
    "                'if': {'row_index': 'odd'},\n",
    "                'backgroundColor': 'rgb(248, 248, 248)'\n",
    "            }\n",
    "        ] + [\n",
    "            {\n",
    "                'if': {'column_id': c},\n",
    "                'textAlign': 'left',\n",
    "            } for c in ['symbol', 'underlying']\n",
    "        ],\n",
    "\n",
    "        style_as_list_view=False,\n",
    "        style_table={\n",
    "            'maxHeight':'450','overflowX': 'scroll',\n",
    "        } ,\n",
    "        editable=True,\n",
    "        css=[{\"selector\": \"table\", \"rule\": \"width: 100%;\"}],\n",
    "        id=datatable_id\n",
    "    )\n",
    "    if df_in is None:\n",
    "        df = pd.DataFrame({'no_data':[]})\n",
    "    else:\n",
    "        df = df_in.copy()\n",
    "        if columns_to_display is not None:\n",
    "            df = df[columns_to_display]                \n",
    "    dt.data=df.to_dict(\"rows\")\n",
    "    dt.columns=[{\"name\": i, \"id\": i,'editable': True if i in editable_columns else False} for i in df.columns.values]                    \n",
    "    print(f'dt.columns {dt.columns}')\n",
    "    child_div = html.Div([html.H4(title,style={'height':'3px'}),dt])\n",
    "    return child_div\n",
    "\n",
    "def file_store_transformer(contents):\n",
    "    if contents is None or len(contents)<=0 or contents[0] is None:\n",
    "        d =  None\n",
    "    else:\n",
    "        d = dgrid.parse_contents(contents).to_dict('rows')\n",
    "    return d\n"
   ]
  },
  {
   "cell_type": "code",
   "execution_count": 3,
   "metadata": {},
   "outputs": [
    {
     "name": "stdout",
     "output_type": "stream",
     "text": [
      "dt.columns [{'name': 'symbol', 'id': 'symbol', 'editable': False}, {'name': 'position', 'id': 'position', 'editable': True}]\n"
     ]
    },
    {
     "data": {
      "text/plain": [
       "<function dashgrid.dgrid.ComponentWrapper.callback.<locals>.execute_callback(*inputs_and_states)>"
      ]
     },
     "execution_count": 3,
     "metadata": {},
     "output_type": "execute_result"
    }
   ],
   "source": [
    "button_style={\n",
    "    'line-height': '40px',\n",
    "    'borderWidth': '1px',\n",
    "    'borderStyle': 'dashed',\n",
    "    'borderRadius': '1px',\n",
    "    'textAlign': 'center',\n",
    "    'background-color':'#fffff0',\n",
    "    'vertical-align':'middle',\n",
    "}\n",
    "u1 = dcc.Upload(\n",
    "            id='u1',\n",
    "            children=html.Div(['enter a csv file']),\n",
    "            # Allow multiple files to be uploaded\n",
    "            multiple=False,\n",
    "            style=button_style)\n",
    "\n",
    "df_init = pd.DataFrame({'symbol':['spy','ibm'],'position':[100,-100]})\n",
    "cols=['symbol','position']\n",
    "s1 = dcc.Store(id='s1')#,data=df_init.to_dict('rows'))\n",
    "s2 = dcc.Store(id='s2')\n",
    "\n",
    "dtable_div = create_dt_div('dtable',df_in=df_init,\n",
    "                           columns_to_display=cols,\n",
    "                           editable_columns_in=['position'])\n",
    "dt1 = html.Div([dtable_div],id='dt1')\n",
    "gr = dgrid.GridGraph('g1', 'graph 1',(dt1.id,'data'),\n",
    "                    df_x_column='symbol',df_y_columns=['position'],plot_bars=True)\n",
    "gr1 = gr.html\n",
    "gr1.id = 'gr1'\n",
    "\n",
    "u1_lambda = lambda value_list: [None,None] if value_list[0] is None else [file_store_transformer(value_list[0]),None]\n",
    "u1_comp = dgrid.ComponentWrapper(u1,\n",
    "                 input__tuples=[(u1.id,'contents')],\n",
    "                 output_tuples=[(s1.id,'data'),(s2.id,'data')],\n",
    "                 callback_input_transformer=u1_lambda)\n",
    "\n",
    "# dt1_lambda = lambda value_list: [None] if value_list[0] is None else [create_dt_div('dtable',df_in=pd.DataFrame(value_list[0]),editable_columns_in=['position]'])]\n",
    "def dt1_lambda(value_list): \n",
    "    print(f'dt1_lambda value_list: {value_list}')\n",
    "    ret = [None,None]\n",
    "    try:\n",
    "        if value_list[0] is not None:\n",
    "            dict_df = value_list[0]\n",
    "            df = pd.DataFrame(dict_df)\n",
    "            dt_div = create_dt_div('dtable',df_in=df,\n",
    "                        columns_to_display=cols,\n",
    "                        editable_columns_in=['position'])\n",
    "            ret =  [dt_div,dict_df]\n",
    "    except Exception as e:\n",
    "        print(str(e))\n",
    "    print(f'dt1_lambda ret: {ret}')\n",
    "    return ret\n",
    "\n",
    "dt1_comp = dgrid.ComponentWrapper(dt1,\n",
    "                 input__tuples=[(s1.id,'data')],\n",
    "                 output_tuples=[(dt1.id,'children'),('dtable','data')],\n",
    "                 callback_input_transformer=dt1_lambda)\n",
    "\n",
    "\n",
    "def gr1_lambda(value_list): \n",
    "    print(f'gr1_lambda value_list: {value_list}')\n",
    "    ret = [None]\n",
    "    try:\n",
    "        if value_list[0] is not None:\n",
    "            df = pd.DataFrame(value_list[0])\n",
    "            ret =  [gr.make_chart_figure(df)]\n",
    "    except Exception as e:\n",
    "        print(str(e))\n",
    "    print(f'gr1_lambda ret: {ret}')\n",
    "    return ret\n",
    "\n",
    "gr1_comp = dgrid.ComponentWrapper(gr1,\n",
    "                 input__tuples=[('dtable','data')],\n",
    "                 output_tuples=[(gr1.children.id,'figure')],\n",
    "                 callback_input_transformer=gr1_lambda)\n",
    "\n",
    "app = dash.Dash()\n",
    "app.layout = html.Div([u1_comp.html,s1,s2,dt1_comp.html,gr1_comp.html])\n",
    "# [c.callback(app) for c in [u1_comp,dt1_comp]]\n",
    "u1_comp.callback(app)\n",
    "dt1_comp.callback(app)\n",
    "gr1_comp.callback(app)\n",
    "\n"
   ]
  },
  {
   "cell_type": "code",
   "execution_count": null,
   "metadata": {
    "scrolled": false
   },
   "outputs": [
    {
     "name": "stdout",
     "output_type": "stream",
     "text": [
      " * Serving Flask app \"__main__\" (lazy loading)\n",
      " * Environment: production\n",
      "   WARNING: Do not use the development server in a production environment.\n",
      "   Use a production WSGI server instead.\n",
      " * Debug mode: off\n"
     ]
    },
    {
     "name": "stderr",
     "output_type": "stream",
     "text": [
      "2019-07-18 01:13:34,227 - werkzeug - INFO -  * Running on http://127.0.0.1:8500/ (Press CTRL+C to quit)\n",
      "2019-07-18 01:13:39,400 - werkzeug - INFO - 127.0.0.1 - - [18/Jul/2019 01:13:39] \"GET / HTTP/1.1\" 200 -\n",
      "2019-07-18 01:13:39,477 - werkzeug - INFO - 127.0.0.1 - - [18/Jul/2019 01:13:39] \"GET /_dash-component-suites/dash_renderer/react@16.8.6.min.js?v=1.0.0&m=1563025507 HTTP/1.1\" 200 -\n",
      "2019-07-18 01:13:39,478 - werkzeug - INFO - 127.0.0.1 - - [18/Jul/2019 01:13:39] \"GET /_dash-component-suites/dash_renderer/prop-types@15.7.2.min.js?v=1.0.0&m=1563025507 HTTP/1.1\" 200 -\n",
      "2019-07-18 01:13:39,484 - werkzeug - INFO - 127.0.0.1 - - [18/Jul/2019 01:13:39] \"GET /_dash-component-suites/dash_renderer/react-dom@16.8.6.min.js?v=1.0.0&m=1563025507 HTTP/1.1\" 200 -\n",
      "2019-07-18 01:13:39,494 - werkzeug - INFO - 127.0.0.1 - - [18/Jul/2019 01:13:39] \"GET /_dash-component-suites/dash_html_components/dash_html_components.min.js?v=1.0.0&m=1563025508 HTTP/1.1\" 200 -\n",
      "2019-07-18 01:13:39,504 - werkzeug - INFO - 127.0.0.1 - - [18/Jul/2019 01:13:39] \"GET /_dash-component-suites/dash_core_components/highlight.pack.js?v=1.0.0&m=1563025508 HTTP/1.1\" 200 -\n",
      "2019-07-18 01:13:39,508 - werkzeug - INFO - 127.0.0.1 - - [18/Jul/2019 01:13:39] \"GET /_dash-component-suites/dash_table/bundle.js?v=4.0.1&m=1563025509 HTTP/1.1\" 200 -\n",
      "2019-07-18 01:13:39,537 - werkzeug - INFO - 127.0.0.1 - - [18/Jul/2019 01:13:39] \"GET /_dash-component-suites/dash_renderer/dash_renderer.min.js?v=1.0.0&m=1563025507 HTTP/1.1\" 200 -\n",
      "2019-07-18 01:13:39,568 - werkzeug - INFO - 127.0.0.1 - - [18/Jul/2019 01:13:39] \"GET /_dash-component-suites/dash_core_components/dash_core_components.min.js?v=1.0.0&m=1563025508 HTTP/1.1\" 200 -\n",
      "2019-07-18 01:13:39,670 - werkzeug - INFO - 127.0.0.1 - - [18/Jul/2019 01:13:39] \"GET /_dash-component-suites/dash_core_components/plotly-1.48.3.min.js?v=1.0.0&m=1563025508 HTTP/1.1\" 200 -\n",
      "2019-07-18 01:13:40,097 - werkzeug - INFO - 127.0.0.1 - - [18/Jul/2019 01:13:40] \"GET /_dash-layout HTTP/1.1\" 200 -\n",
      "2019-07-18 01:13:40,098 - werkzeug - INFO - 127.0.0.1 - - [18/Jul/2019 01:13:40] \"GET /_dash-dependencies HTTP/1.1\" 200 -\n",
      "2019-07-18 01:13:40,170 - werkzeug - INFO - 127.0.0.1 - - [18/Jul/2019 01:13:40] \"POST /_dash-update-component HTTP/1.1\" 200 -\n",
      "2019-07-18 01:13:40,200 - werkzeug - INFO - 127.0.0.1 - - [18/Jul/2019 01:13:40] \"POST /_dash-update-component HTTP/1.1\" 200 -\n",
      "2019-07-18 01:13:40,202 - werkzeug - INFO - 127.0.0.1 - - [18/Jul/2019 01:13:40] \"POST /_dash-update-component HTTP/1.1\" 200 -\n"
     ]
    },
    {
     "name": "stdout",
     "output_type": "stream",
     "text": [
      "gr1_lambda value_list: [[{'symbol': 'spy', 'position': 100}, {'symbol': 'ibm', 'position': -100}]]\n",
      "dt1_lambda value_list: [None]\n",
      "dt1_lambda ret: [None, None]\n",
      "gr1_lambda ret: [Figure({\n",
      "    'data': [{'type': 'bar',\n",
      "              'uid': 'cdff665e-a91a-11e9-a879-8c859025e7f9',\n",
      "              'x': array(['spy', 'ibm'], dtype=object),\n",
      "              'y': array([ 100, -100])}],\n",
      "    'layout': {'plot_bgcolor': '#f5f5f0', 'title': 'graph 1'}\n",
      "})]\n"
     ]
    },
    {
     "name": "stderr",
     "output_type": "stream",
     "text": [
      "2019-07-18 01:13:40,371 - werkzeug - INFO - 127.0.0.1 - - [18/Jul/2019 01:13:40] \"POST /_dash-update-component HTTP/1.1\" 200 -\n"
     ]
    },
    {
     "name": "stdout",
     "output_type": "stream",
     "text": [
      "dt1_lambda value_list: [None]\n",
      "dt1_lambda ret: [None, None]\n"
     ]
    },
    {
     "name": "stderr",
     "output_type": "stream",
     "text": [
      "2019-07-18 01:13:47,285 - werkzeug - INFO - 127.0.0.1 - - [18/Jul/2019 01:13:47] \"POST /_dash-update-component HTTP/1.1\" 200 -\n",
      "2019-07-18 01:13:47,315 - werkzeug - INFO - 127.0.0.1 - - [18/Jul/2019 01:13:47] \"POST /_dash-update-component HTTP/1.1\" 200 -\n",
      "2019-07-18 01:13:47,445 - werkzeug - INFO - 127.0.0.1 - - [18/Jul/2019 01:13:47] \"POST /_dash-update-component HTTP/1.1\" 200 -\n",
      "2019-07-18 01:13:47,480 - werkzeug - INFO - 127.0.0.1 - - [18/Jul/2019 01:13:47] \"POST /_dash-update-component HTTP/1.1\" 200 -\n"
     ]
    },
    {
     "name": "stdout",
     "output_type": "stream",
     "text": [
      "dt1_lambda value_list: [[{'symbol': 'ZSY00', 'position': -50}, {'symbol': '^EURUSD', 'position': 200000}, {'symbol': 'XLU', 'position': -200}, {'symbol': 'XLE', 'position': 200}, {'symbol': 'USO', 'position': 2}, {'symbol': 'SPY', 'position': -200}, {'symbol': 'SOYB', 'position': 3500}, {'symbol': 'ZCY00', 'position': -50}, {'symbol': 'CLY00', 'position': 500}, {'symbol': 'HOY00', 'position': 21000}, {'symbol': 'HGU19', 'position': 25000}, {'symbol': 'CPER', 'position': -2600}, {'symbol': 'CTZ19', 'position': 500}]]\n",
      "dt.columns [{'name': 'symbol', 'id': 'symbol', 'editable': False}, {'name': 'position', 'id': 'position', 'editable': True}]\n",
      "dt1_lambda ret: [Div([H4(children='Dash Table', style={'height': '3px'}), DataTable(columns=[{'name': 'symbol', 'id': 'symbol', 'editable': False}, {'name': 'position', 'id': 'position', 'editable': True}], css=[{'selector': 'table', 'rule': 'width: 100%;'}], data=[{'symbol': 'ZSY00', 'position': -50}, {'symbol': '^EURUSD', 'position': 200000}, {'symbol': 'XLU', 'position': -200}, {'symbol': 'XLE', 'position': 200}, {'symbol': 'USO', 'position': 2}, {'symbol': 'SPY', 'position': -200}, {'symbol': 'SOYB', 'position': 3500}, {'symbol': 'ZCY00', 'position': -50}, {'symbol': 'CLY00', 'position': 500}, {'symbol': 'HOY00', 'position': 21000}, {'symbol': 'HGU19', 'position': 25000}, {'symbol': 'CPER', 'position': -2600}, {'symbol': 'CTZ19', 'position': 500}], editable=True, id='dtable', style_as_list_view=False, page_action='native', page_current=0, page_size=100, filter_action='none', sort_action='native', style_table={'maxHeight': '450', 'overflowX': 'scroll'}, style_cell_conditional=[{'if': {'row_index': 'odd'}, 'backgroundColor': 'rgb(248, 248, 248)'}, {'if': {'column_id': 'symbol'}, 'textAlign': 'left'}, {'if': {'column_id': 'underlying'}, 'textAlign': 'left'}])]), [{'symbol': 'ZSY00', 'position': -50}, {'symbol': '^EURUSD', 'position': 200000}, {'symbol': 'XLU', 'position': -200}, {'symbol': 'XLE', 'position': 200}, {'symbol': 'USO', 'position': 2}, {'symbol': 'SPY', 'position': -200}, {'symbol': 'SOYB', 'position': 3500}, {'symbol': 'ZCY00', 'position': -50}, {'symbol': 'CLY00', 'position': 500}, {'symbol': 'HOY00', 'position': 21000}, {'symbol': 'HGU19', 'position': 25000}, {'symbol': 'CPER', 'position': -2600}, {'symbol': 'CTZ19', 'position': 500}]]\n",
      "gr1_lambda value_list: [[{'symbol': 'ZSY00', 'position': -50}, {'symbol': '^EURUSD', 'position': 200000}, {'symbol': 'XLU', 'position': -200}, {'symbol': 'XLE', 'position': 200}, {'symbol': 'USO', 'position': 2}, {'symbol': 'SPY', 'position': -200}, {'symbol': 'SOYB', 'position': 3500}, {'symbol': 'ZCY00', 'position': -50}, {'symbol': 'CLY00', 'position': 500}, {'symbol': 'HOY00', 'position': 21000}, {'symbol': 'HGU19', 'position': 25000}, {'symbol': 'CPER', 'position': -2600}, {'symbol': 'CTZ19', 'position': 500}]]\n",
      "gr1_lambda value_list: [[{'symbol': 'ZSY00', 'position': -50}, {'symbol': '^EURUSD', 'position': 200000}, {'symbol': 'XLU', 'position': -200}, {'symbol': 'XLE', 'position': 200}, {'symbol': 'USO', 'position': 2}, {'symbol': 'SPY', 'position': -200}, {'symbol': 'SOYB', 'position': 3500}, {'symbol': 'ZCY00', 'position': -50}, {'symbol': 'CLY00', 'position': 500}, {'symbol': 'HOY00', 'position': 21000}, {'symbol': 'HGU19', 'position': 25000}, {'symbol': 'CPER', 'position': -2600}, {'symbol': 'CTZ19', 'position': 500}]]\n",
      "gr1_lambda ret: [Figure({\n",
      "    'data': [{'type': 'bar',\n",
      "              'uid': 'd24bfba8-a91a-11e9-a587-8c859025e7f9',\n",
      "              'x': array(['ZSY00', '^EURUSD', 'XLU', 'XLE', 'USO', 'SPY', 'SOYB', 'ZCY00',\n",
      "                          'CLY00', 'HOY00', 'HGU19', 'CPER', 'CTZ19'], dtype=object),\n",
      "              'y': array([   -50, 200000,   -200,    200,      2,   -200,   3500,    -50,    500,\n",
      "                           21000,  25000,  -2600,    500])}],\n",
      "    'layout': {'plot_bgcolor': '#f5f5f0', 'title': 'graph 1'}\n",
      "})]\n",
      "gr1_lambda ret: [Figure({\n",
      "    'data': [{'type': 'bar',\n",
      "              'uid': 'd255c590-a91a-11e9-97c8-8c859025e7f9',\n",
      "              'x': array(['ZSY00', '^EURUSD', 'XLU', 'XLE', 'USO', 'SPY', 'SOYB', 'ZCY00',\n",
      "                          'CLY00', 'HOY00', 'HGU19', 'CPER', 'CTZ19'], dtype=object),\n",
      "              'y': array([   -50, 200000,   -200,    200,      2,   -200,   3500,    -50,    500,\n",
      "                           21000,  25000,  -2600,    500])}],\n",
      "    'layout': {'plot_bgcolor': '#f5f5f0', 'title': 'graph 1'}\n",
      "})]\n"
     ]
    }
   ],
   "source": [
    "app.run_server(host='127.0.0.1',port=8500)"
   ]
  },
  {
   "cell_type": "code",
   "execution_count": null,
   "metadata": {},
   "outputs": [],
   "source": [
    "# dtable_div.children[1].id"
   ]
  },
  {
   "cell_type": "code",
   "execution_count": null,
   "metadata": {},
   "outputs": [],
   "source": [
    "dtable_div.children[1]"
   ]
  },
  {
   "cell_type": "code",
   "execution_count": null,
   "metadata": {},
   "outputs": [],
   "source": []
  }
 ],
 "metadata": {
  "kernelspec": {
   "display_name": "Python 3",
   "language": "python",
   "name": "python3"
  },
  "language_info": {
   "codemirror_mode": {
    "name": "ipython",
    "version": 3
   },
   "file_extension": ".py",
   "mimetype": "text/x-python",
   "name": "python",
   "nbconvert_exporter": "python",
   "pygments_lexer": "ipython3",
   "version": "3.6.5"
  }
 },
 "nbformat": 4,
 "nbformat_minor": 2
}
