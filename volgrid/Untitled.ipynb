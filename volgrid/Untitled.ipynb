{
 "cells": [
  {
   "cell_type": "code",
   "execution_count": 23,
   "metadata": {},
   "outputs": [],
   "source": [
    "from IPython.display import display\n",
    "import dash\n",
    "import sys,os\n",
    "if  not os.path.abspath('./') in sys.path:\n",
    "    sys.path.append(os.path.abspath('./'))\n",
    "if  not os.path.abspath('../') in sys.path:\n",
    "    sys.path.append(os.path.abspath('../'))\n",
    "sys.path.append(os.path.abspath('../../dashgrid'))\n",
    "sys.path.append(os.path.abspath('../../dashgrid/dashgrid'))\n",
    "from dashgrid import dgrid\n",
    "import dash_html_components as html\n",
    "import dash_core_components as dcc\n",
    "from dash.dependencies import Input, Output,State\n",
    "import dash_table\n",
    "import pandas as pd\n",
    "import numpy as np\n",
    "from dashgrid import dgrid\n",
    "import importlib\n",
    "# importlib.reload(dgrid)\n"
   ]
  },
  {
   "cell_type": "markdown",
   "metadata": {},
   "source": [
    "#### Create styles to be used in grids"
   ]
  },
  {
   "cell_type": "code",
   "execution_count": 24,
   "metadata": {},
   "outputs": [],
   "source": [
    "button_style={\n",
    "    'line-height': '40px',\n",
    "    'borderWidth': '1px',\n",
    "    'borderStyle': 'dashed',\n",
    "    'borderRadius': '1px',\n",
    "    'textAlign': 'center',\n",
    "    'background-color':'#fffff0',\n",
    "    'vertical-align':'middle',\n",
    "}\n",
    "button_style_no_border={\n",
    "    'line-height': '40px',\n",
    "#     'borderWidth': '1px',\n",
    "#     'borderStyle': 'dashed',\n",
    "#     'borderRadius': '1px',\n",
    "    'textAlign': 'center',\n",
    "    'background-color':'#fffff0',\n",
    "    'vertical-align':'middle',\n",
    "}"
   ]
  },
  {
   "cell_type": "markdown",
   "metadata": {},
   "source": [
    "#### Create a test grid, with grids inside of grids"
   ]
  },
  {
   "cell_type": "code",
   "execution_count": 25,
   "metadata": {
    "scrolled": true
   },
   "outputs": [],
   "source": [
    "def dash_app_1():\n",
    "    d1 = dgrid.GridItem(html.Div('test 1',style=button_style))\n",
    "    d2 = dgrid.GridItem(html.Div('test 2',style=button_style))\n",
    "    g1 = dgrid.create_grid([d1,d2],additional_grid_properties_dict={'border':'none'})\n",
    "    d3 = dgrid.GridItem(html.Div('test 3',style=button_style))\n",
    "    g2 = dgrid.create_grid([g1,d3])\n",
    "    app = dash.Dash()\n",
    "    app.layout = html.Div(g2)\n",
    "    return app\n",
    "# app.run_server(host='127.0.0.1',port=8500)"
   ]
  },
  {
   "cell_type": "markdown",
   "metadata": {},
   "source": [
    "#### Create a method that creates dash_table's"
   ]
  },
  {
   "cell_type": "code",
   "execution_count": 26,
   "metadata": {},
   "outputs": [],
   "source": [
    "def create_dt_div(dtable_id,df_in=None,\n",
    "                  columns_to_display=None,\n",
    "                  editable_columns_in=None,\n",
    "                  title='Dash Table'):\n",
    "    editable_columns = [] if editable_columns_in is None else editable_columns_in\n",
    "    datatable_id = dtable_id\n",
    "    dt = dash_table.DataTable(\n",
    "        page_current= 0,\n",
    "        page_size= 100,\n",
    "        page_action='native',\n",
    "        sort_action='native',\n",
    "        filter_action='none', # 'fe',\n",
    "#             content_style='grow',\n",
    "        style_cell_conditional=[\n",
    "            {\n",
    "                'if': {'row_index': 'odd'},\n",
    "                'backgroundColor': 'rgb(248, 248, 248)'\n",
    "            }\n",
    "        ] + [\n",
    "            {\n",
    "                'if': {'column_id': c},\n",
    "                'textAlign': 'left',\n",
    "            } for c in ['symbol', 'underlying']\n",
    "        ],\n",
    "\n",
    "        style_as_list_view=False,\n",
    "        style_table={\n",
    "            'maxHeight':'450','overflowX': 'scroll',\n",
    "        } ,\n",
    "        editable=True,\n",
    "        css=[{\"selector\": \"table\", \"rule\": \"width: 100%;\"}],\n",
    "        id=datatable_id\n",
    "    )\n",
    "    if df_in is None:\n",
    "        df = pd.DataFrame({'no_data':[]})\n",
    "    else:\n",
    "        df = df_in.copy()\n",
    "        if columns_to_display is not None:\n",
    "            df = df[columns_to_display]                \n",
    "    dt.data=df.to_dict(\"rows\")\n",
    "    dt.columns=[{\"name\": i, \"id\": i,'editable': True if i in editable_columns else False} for i in df.columns.values]                    \n",
    "    print(f'dt.columns {dt.columns}')\n",
    "    child_div = html.Div([html.H4(title,style={'height':'3px'}),dt])\n",
    "    return child_div\n",
    "\n",
    "def file_store_transformer(contents):\n",
    "    if contents is None or len(contents)<=0 or contents[0] is None:\n",
    "        d =  None\n",
    "    else:\n",
    "        d = dgrid.parse_contents(contents).to_dict('rows')\n",
    "    return d\n"
   ]
  },
  {
   "cell_type": "markdown",
   "metadata": {},
   "source": [
    "#### Create a dash app - WITHOUT GRIDS - that displays an Upload button, a dash_table and a dash Graph"
   ]
  },
  {
   "cell_type": "code",
   "execution_count": 52,
   "metadata": {},
   "outputs": [],
   "source": [
    "def dash_app_2():\n",
    "    u1 = dcc.Upload(\n",
    "                id='u1',\n",
    "                children=html.Div(['enter a csv file']),\n",
    "                # Allow multiple files to be uploaded\n",
    "                multiple=False,\n",
    "                style=button_style)\n",
    "\n",
    "    df_init = pd.DataFrame({'symbol':['spy','ibm'],'position':[100,-100]})\n",
    "    cols=['symbol','position']\n",
    "    s1 = dcc.Store(id='s1',data=df_init.to_dict('rows'))\n",
    "    s2 = dcc.Store(id='s2')\n",
    "\n",
    "    dtable_div = create_dt_div('dtable',df_in=df_init,\n",
    "                               columns_to_display=cols,\n",
    "                               editable_columns_in=['position'])\n",
    "    dt1 = html.Div([dtable_div],id='dt1')\n",
    "    gr = dgrid.GridGraph('g1', 'graph 1',(dt1.id,'data'),\n",
    "                        df_x_column='symbol',df_y_columns=['position'],plot_bars=True)\n",
    "    gr1 = gr.html\n",
    "    gr1.id = 'gr1'\n",
    "\n",
    "    u1_lambda = lambda value_list: [None,None] if value_list[0] is None else [file_store_transformer(value_list[0]),None]\n",
    "    u1_comp = dgrid.ComponentWrapper(u1,\n",
    "                     input__tuples=[(u1.id,'contents')],\n",
    "                     output_tuples=[(s1.id,'data'),(s2.id,'data')],\n",
    "                     callback_input_transformer=u1_lambda)\n",
    "\n",
    "    # dt1_lambda = lambda value_list: [None] if value_list[0] is None else [create_dt_div('dtable',df_in=pd.DataFrame(value_list[0]),editable_columns_in=['position]'])]\n",
    "    def dt1_lambda(value_list): \n",
    "        print(f'dt1_lambda value_list: {value_list}')\n",
    "        ret = [None,None]\n",
    "        try:\n",
    "            if value_list[0] is not None:\n",
    "                dict_df = value_list[0]\n",
    "                df = pd.DataFrame(dict_df)\n",
    "                dt_div = create_dt_div('dtable',df_in=df,\n",
    "                            columns_to_display=cols,\n",
    "                            editable_columns_in=['position'])\n",
    "                ret =  [dt_div,dict_df]\n",
    "        except Exception as e:\n",
    "            print(str(e))\n",
    "        print(f'dt1_lambda ret: {ret}')\n",
    "        if ret[0] is None:\n",
    "            raise ValueError('dt1_lambda value_list has no data.  Callback return is ignored')\n",
    "        return ret\n",
    "\n",
    "    dt1_comp = dgrid.ComponentWrapper(dt1,\n",
    "                     input__tuples=[(s1.id,'data')],\n",
    "                     output_tuples=[(dt1.id,'children'),('dtable','data')],\n",
    "                     callback_input_transformer=dt1_lambda)\n",
    "\n",
    "\n",
    "    def gr1_lambda(value_list): \n",
    "        print(f'gr1_lambda value_list: {value_list}')\n",
    "        ret = [None]\n",
    "        try:\n",
    "            if value_list[0] is not None:\n",
    "                df = pd.DataFrame(value_list[0])\n",
    "                ret =  [gr.make_chart_figure(df)]\n",
    "        except Exception as e:\n",
    "            print(str(e))\n",
    "        print(f'gr1_lambda ret: {ret}')\n",
    "        return ret\n",
    "\n",
    "    gr1_comp = dgrid.ComponentWrapper(gr1,\n",
    "                     input__tuples=[('dtable','data')],\n",
    "                     output_tuples=[(gr1.children.id,'figure')],\n",
    "                     callback_input_transformer=gr1_lambda)\n",
    "\n",
    "    app = dash.Dash()\n",
    "    app.layout = html.Div([u1_comp.html,s1,s2,dt1_comp.html,gr1_comp.html])\n",
    "    # [c.callback(app) for c in [u1_comp,dt1_comp]]\n",
    "    u1_comp.callback(app)\n",
    "    dt1_comp.callback(app)\n",
    "    gr1_comp.callback(app)\n",
    "    return app\n"
   ]
  },
  {
   "cell_type": "markdown",
   "metadata": {},
   "source": [
    "#### Create app above, but with Grid wrappers"
   ]
  },
  {
   "cell_type": "code",
   "execution_count": 87,
   "metadata": {},
   "outputs": [],
   "source": [
    "def dash_app_3():\n",
    "    app = dash_app_2()    \n",
    "    apc = app.layout.children\n",
    "    upl = apc[0]\n",
    "    stores = [apc[1],apc[2]]\n",
    "    gr = dgrid.create_grid([apc[3],apc[4]])\n",
    "    app.layout = html.Div([upl,gr]+stores)\n",
    "    return app\n"
   ]
  },
  {
   "cell_type": "markdown",
   "metadata": {},
   "source": []
  },
  {
   "cell_type": "code",
   "execution_count": 96,
   "metadata": {},
   "outputs": [],
   "source": [
    "class UploadComponent(dgrid.ComponentWrapper):\n",
    "    def __init__(self,component_id,text=None,style=None,logger=None):\n",
    "        t = \"Choose a File\" if text is None else text\n",
    "        u1 = dcc.Upload(\n",
    "                    id=component_id,\n",
    "                    children=html.Div([t]),\n",
    "                    # Allow multiple files to be uploaded\n",
    "                    multiple=False,\n",
    "                    style=button_style if style is None else style)\n",
    "        \n",
    "        u1_lambda = lambda value_list: [None] if value_list[0] is None else [file_store_transformer(value_list[0])]\n",
    "        self.s1 = dcc.Store(id=component_id+\"_store\")\n",
    "        super(UploadComponent,self).__init__(u1,\n",
    "                     input__tuples=[(u1.id,'contents')],\n",
    "                     output_tuples=[(self.s1.id,'data')],\n",
    "                     callback_input_transformer=u1_lambda,logger=logger)\n",
    "        \n",
    "    @dgrid.ComponentWrapper.html.getter\n",
    "    def html(self):\n",
    "        return html.Div([self.div,self.s1])\n",
    "        \n",
    "class DashTableComponent(dgrid.ComponentWrapper):\n",
    "    def __init__(self,component_id,df_initial,input_tuples,title=None,\n",
    "                 editable_columns=None,style=None,logger=None):\n",
    "        self.component_id = component_id\n",
    "        self.html_id = component_id+'_html'\n",
    "        \n",
    "        # create initial div\n",
    "        dtable_div = create_dt_div(self.component_id,df_in=df_initial,\n",
    "                        columns_to_display=df_initial.columns,\n",
    "                        editable_columns_in=editable_columns,\n",
    "                        title='Dash Table' if title is None else title)\n",
    "        outer_div = html.Div([dtable_div],id=self.html_id)\n",
    "        \n",
    "        # define dash_table callback using closure so that you don't refer back to \n",
    "        #   class instance during the callback\n",
    "        def _create_dt_lambda(component_id,cols,editable_cols,logger):\n",
    "            def _dt_lambda(value_list): \n",
    "                logger.debug(f'dt_lambda value_list: {value_list}')\n",
    "                ret = [None,None]\n",
    "                try:\n",
    "                    if value_list[0] is not None:\n",
    "                        dict_df = value_list[0]\n",
    "                        df = pd.DataFrame(dict_df)\n",
    "                        dt_div = create_dt_div(component_id,df_in=df,\n",
    "                                    columns_to_display=cols,\n",
    "                                    editable_columns_in=editable_cols)\n",
    "                        ret =  [dt_div,dict_df]\n",
    "                except Exception as e:\n",
    "                    logger.warn(str(e))\n",
    "                logger.debug(f'dt1_lambda ret: {ret}')\n",
    "                if ret[0] is None:\n",
    "                    raise ValueError('dt1_lambda value_list has no data.  Callback return is ignored')\n",
    "                return ret\n",
    "            return _dt_lambda\n",
    "        \n",
    "        \n",
    "        # do super, but WITHOUT the callback\n",
    "        super(DashTableComponent,self).__init__(outer_div,\n",
    "                     input__tuples=input_tuples,\n",
    "                     output_tuples=[\n",
    "                         (outer_div.id,'children'),\n",
    "                         (self.component_id,'data')],\n",
    "                     callback_input_transformer=lambda v:None,logger=logger)\n",
    "\n",
    "        # define callback so that it includes self.logger\n",
    "        dtlam = _create_dt_lambda(self.component_id,df_initial.columns.values,editable_columns,self.logger)\n",
    "        self.callback_input_transformer = dtlam\n",
    "        "
   ]
  },
  {
   "cell_type": "code",
   "execution_count": 101,
   "metadata": {},
   "outputs": [],
   "source": [
    "def dash_app_4():\n",
    "    u1_comp = UploadComponent('u1','choose a csv portfolio file with symbol and position columns')\n",
    "    df_init = pd.DataFrame({'symbol':['spy','ibm'],'position':[100,-100]})\n",
    "\n",
    "    dt1_comp = DashTableComponent('dt1',df_init,u1.output_tuples,editable_columns=['position'])\n",
    "    app = dash.Dash()\n",
    "    app.layout = html.Div([u1_comp.html,dt1_comp.html])#,gr1_comp.html])\n",
    "    # [c.callback(app) for c in [u1_comp,dt1_comp]]\n",
    "    u1_comp.callback(app)\n",
    "    dt1_comp.callback(app)\n",
    "    return app\n",
    "\n",
    "\n"
   ]
  },
  {
   "cell_type": "code",
   "execution_count": 102,
   "metadata": {},
   "outputs": [],
   "source": [
    "DASH_APP_TO_RUN = dash_app_4"
   ]
  },
  {
   "cell_type": "code",
   "execution_count": null,
   "metadata": {
    "scrolled": false
   },
   "outputs": [
    {
     "name": "stdout",
     "output_type": "stream",
     "text": [
      "dt.columns [{'name': 'position', 'id': 'position', 'editable': True}, {'name': 'symbol', 'id': 'symbol', 'editable': False}]\n",
      " * Serving Flask app \"__main__\" (lazy loading)\n",
      " * Environment: production\n",
      "   WARNING: Do not use the development server in a production environment.\n",
      "   Use a production WSGI server instead.\n",
      " * Debug mode: off\n"
     ]
    },
    {
     "name": "stderr",
     "output_type": "stream",
     "text": [
      "2019-07-19 13:14:28,438 - werkzeug - INFO -  * Running on http://127.0.0.1:8500/ (Press CTRL+C to quit)\n",
      "2019-07-19 13:14:32,536 - werkzeug - INFO - 127.0.0.1 - - [19/Jul/2019 13:14:32] \"GET / HTTP/1.1\" 200 -\n",
      "2019-07-19 13:14:32,581 - werkzeug - INFO - 127.0.0.1 - - [19/Jul/2019 13:14:32] \"GET /_dash-component-suites/dash_renderer/react@16.8.6.min.js?v=1.0.0&m=1563025507 HTTP/1.1\" 200 -\n",
      "2019-07-19 13:14:32,604 - werkzeug - INFO - 127.0.0.1 - - [19/Jul/2019 13:14:32] \"GET /_dash-component-suites/dash_renderer/react-dom@16.8.6.min.js?v=1.0.0&m=1563025507 HTTP/1.1\" 200 -\n",
      "2019-07-19 13:14:32,617 - werkzeug - INFO - 127.0.0.1 - - [19/Jul/2019 13:14:32] \"GET /_dash-component-suites/dash_renderer/prop-types@15.7.2.min.js?v=1.0.0&m=1563025507 HTTP/1.1\" 200 -\n",
      "2019-07-19 13:14:32,635 - werkzeug - INFO - 127.0.0.1 - - [19/Jul/2019 13:14:32] \"GET /_dash-component-suites/dash_core_components/highlight.pack.js?v=1.0.0&m=1563025508 HTTP/1.1\" 200 -\n",
      "2019-07-19 13:14:32,658 - werkzeug - INFO - 127.0.0.1 - - [19/Jul/2019 13:14:32] \"GET /_dash-component-suites/dash_html_components/dash_html_components.min.js?v=1.0.0&m=1563025508 HTTP/1.1\" 200 -\n",
      "2019-07-19 13:14:32,669 - werkzeug - INFO - 127.0.0.1 - - [19/Jul/2019 13:14:32] \"GET /_dash-component-suites/dash_table/bundle.js?v=4.0.1&m=1563025509 HTTP/1.1\" 200 -\n",
      "2019-07-19 13:14:32,686 - werkzeug - INFO - 127.0.0.1 - - [19/Jul/2019 13:14:32] \"GET /_dash-component-suites/dash_renderer/dash_renderer.min.js?v=1.0.0&m=1563025507 HTTP/1.1\" 200 -\n",
      "2019-07-19 13:14:32,733 - werkzeug - INFO - 127.0.0.1 - - [19/Jul/2019 13:14:32] \"GET /_dash-component-suites/dash_core_components/dash_core_components.min.js?v=1.0.0&m=1563025508 HTTP/1.1\" 200 -\n",
      "2019-07-19 13:14:32,824 - werkzeug - INFO - 127.0.0.1 - - [19/Jul/2019 13:14:32] \"GET /_dash-component-suites/dash_core_components/plotly-1.48.3.min.js?v=1.0.0&m=1563025508 HTTP/1.1\" 200 -\n",
      "2019-07-19 13:14:33,299 - werkzeug - INFO - 127.0.0.1 - - [19/Jul/2019 13:14:33] \"GET /_dash-layout HTTP/1.1\" 200 -\n",
      "2019-07-19 13:14:33,300 - werkzeug - INFO - 127.0.0.1 - - [19/Jul/2019 13:14:33] \"GET /_dash-dependencies HTTP/1.1\" 200 -\n",
      "2019-07-19 13:14:33,323 - flask.app - ERROR - Exception on /_dash-update-component [POST]\n",
      "Traceback (most recent call last):\n",
      "  File \"/Users/bperlman1/Virtualenvs3/dashrisk2/lib/python3.6/site-packages/flask/app.py\", line 2292, in wsgi_app\n",
      "    response = self.full_dispatch_request()\n",
      "  File \"/Users/bperlman1/Virtualenvs3/dashrisk2/lib/python3.6/site-packages/flask/app.py\", line 1815, in full_dispatch_request\n",
      "    rv = self.handle_user_exception(e)\n",
      "  File \"/Users/bperlman1/Virtualenvs3/dashrisk2/lib/python3.6/site-packages/flask/app.py\", line 1718, in handle_user_exception\n",
      "    reraise(exc_type, exc_value, tb)\n",
      "  File \"/Users/bperlman1/Virtualenvs3/dashrisk2/lib/python3.6/site-packages/flask/_compat.py\", line 35, in reraise\n",
      "    raise value\n",
      "  File \"/Users/bperlman1/Virtualenvs3/dashrisk2/lib/python3.6/site-packages/flask/app.py\", line 1813, in full_dispatch_request\n",
      "    rv = self.dispatch_request()\n",
      "  File \"/Users/bperlman1/Virtualenvs3/dashrisk2/lib/python3.6/site-packages/flask/app.py\", line 1799, in dispatch_request\n",
      "    return self.view_functions[rule.endpoint](**req.view_args)\n",
      "  File \"/Users/bperlman1/Virtualenvs3/dashrisk2/lib/python3.6/site-packages/dash/dash.py\", line 1291, in dispatch\n",
      "    response.set_data(self.callback_map[output]['callback'](*args))\n",
      "  File \"/Users/bperlman1/Virtualenvs3/dashrisk2/lib/python3.6/site-packages/dash/dash.py\", line 1175, in add_context\n",
      "    output_value = func(*args, **kwargs)\n",
      "  File \"/Users/bperlman1/Documents/billybyte/pyliverisk/dashgrid/dashgrid/dgrid.py\", line 1052, in execute_callback\n",
      "    ret = self.callback_input_transformer(l)\n",
      "  File \"<ipython-input-96-f77dab28909f>\", line 53, in _dt_lambda\n",
      "    raise ValueError('dt1_lambda value_list has no data.  Callback return is ignored')\n",
      "ValueError: dt1_lambda value_list has no data.  Callback return is ignored\n",
      "2019-07-19 13:14:33,326 - werkzeug - INFO - 127.0.0.1 - - [19/Jul/2019 13:14:33] \"POST /_dash-update-component HTTP/1.1\" 200 -\n",
      "2019-07-19 13:14:33,327 - werkzeug - INFO - 127.0.0.1 - - [19/Jul/2019 13:14:33] \"POST /_dash-update-component HTTP/1.1\" 500 -\n",
      "2019-07-19 13:14:33,430 - flask.app - ERROR - Exception on /_dash-update-component [POST]\n",
      "Traceback (most recent call last):\n",
      "  File \"/Users/bperlman1/Virtualenvs3/dashrisk2/lib/python3.6/site-packages/flask/app.py\", line 2292, in wsgi_app\n",
      "    response = self.full_dispatch_request()\n",
      "  File \"/Users/bperlman1/Virtualenvs3/dashrisk2/lib/python3.6/site-packages/flask/app.py\", line 1815, in full_dispatch_request\n",
      "    rv = self.handle_user_exception(e)\n",
      "  File \"/Users/bperlman1/Virtualenvs3/dashrisk2/lib/python3.6/site-packages/flask/app.py\", line 1718, in handle_user_exception\n",
      "    reraise(exc_type, exc_value, tb)\n",
      "  File \"/Users/bperlman1/Virtualenvs3/dashrisk2/lib/python3.6/site-packages/flask/_compat.py\", line 35, in reraise\n",
      "    raise value\n",
      "  File \"/Users/bperlman1/Virtualenvs3/dashrisk2/lib/python3.6/site-packages/flask/app.py\", line 1813, in full_dispatch_request\n",
      "    rv = self.dispatch_request()\n",
      "  File \"/Users/bperlman1/Virtualenvs3/dashrisk2/lib/python3.6/site-packages/flask/app.py\", line 1799, in dispatch_request\n",
      "    return self.view_functions[rule.endpoint](**req.view_args)\n",
      "  File \"/Users/bperlman1/Virtualenvs3/dashrisk2/lib/python3.6/site-packages/dash/dash.py\", line 1291, in dispatch\n",
      "    response.set_data(self.callback_map[output]['callback'](*args))\n",
      "  File \"/Users/bperlman1/Virtualenvs3/dashrisk2/lib/python3.6/site-packages/dash/dash.py\", line 1175, in add_context\n",
      "    output_value = func(*args, **kwargs)\n",
      "  File \"/Users/bperlman1/Documents/billybyte/pyliverisk/dashgrid/dashgrid/dgrid.py\", line 1052, in execute_callback\n",
      "    ret = self.callback_input_transformer(l)\n",
      "  File \"<ipython-input-96-f77dab28909f>\", line 53, in _dt_lambda\n",
      "    raise ValueError('dt1_lambda value_list has no data.  Callback return is ignored')\n",
      "ValueError: dt1_lambda value_list has no data.  Callback return is ignored\n",
      "2019-07-19 13:14:33,432 - werkzeug - INFO - 127.0.0.1 - - [19/Jul/2019 13:14:33] \"POST /_dash-update-component HTTP/1.1\" 500 -\n",
      "2019-07-19 13:14:42,815 - werkzeug - INFO - 127.0.0.1 - - [19/Jul/2019 13:14:42] \"POST /_dash-update-component HTTP/1.1\" 200 -\n",
      "2019-07-19 13:14:42,837 - werkzeug - INFO - 127.0.0.1 - - [19/Jul/2019 13:14:42] \"POST /_dash-update-component HTTP/1.1\" 200 -\n"
     ]
    },
    {
     "name": "stdout",
     "output_type": "stream",
     "text": [
      "dt.columns [{'name': 'position', 'id': 'position', 'editable': True}, {'name': 'symbol', 'id': 'symbol', 'editable': False}]\n"
     ]
    }
   ],
   "source": [
    "app = DASH_APP_TO_RUN()\n",
    "app.run_server(host='127.0.0.1',port=8500)"
   ]
  },
  {
   "cell_type": "code",
   "execution_count": 31,
   "metadata": {},
   "outputs": [
    {
     "data": {
      "text/plain": [
       "Div([Upload(children=Div(['enter a csv file']), id='u1', multiple=False, style={'line-height': '40px', 'borderWidth': '1px', 'borderStyle': 'dashed', 'borderRadius': '1px', 'textAlign': 'center', 'background-color': '#fffff0', 'vertical-align': 'middle'})])"
      ]
     },
     "metadata": {},
     "output_type": "display_data"
    },
    {
     "data": {
      "text/plain": [
       "Store(id='s1', data=[{'position': 100, 'symbol': 'spy'}, {'position': -100, 'symbol': 'ibm'}])"
      ]
     },
     "metadata": {},
     "output_type": "display_data"
    },
    {
     "data": {
      "text/plain": [
       "Store(id='s2')"
      ]
     },
     "metadata": {},
     "output_type": "display_data"
    },
    {
     "data": {
      "text/plain": [
       "Div([Div(children=[Div([H4(children='Dash Table', style={'height': '3px'}), DataTable(columns=[{'name': 'symbol', 'id': 'symbol', 'editable': False}, {'name': 'position', 'id': 'position', 'editable': True}], css=[{'selector': 'table', 'rule': 'width: 100%;'}], data=[{'symbol': 'spy', 'position': 100}, {'symbol': 'ibm', 'position': -100}], editable=True, id='dtable', style_as_list_view=False, page_action='native', page_current=0, page_size=100, filter_action='none', sort_action='native', style_table={'maxHeight': '450', 'overflowX': 'scroll'}, style_cell_conditional=[{'if': {'row_index': 'odd'}, 'backgroundColor': 'rgb(248, 248, 248)'}, {'if': {'column_id': 'symbol'}, 'textAlign': 'left'}, {'if': {'column_id': 'underlying'}, 'textAlign': 'left'}])])], id='dt1')])"
      ]
     },
     "metadata": {},
     "output_type": "display_data"
    },
    {
     "data": {
      "text/plain": [
       "Div([Div(children=Graph(id='g1', figure=Figure({\n",
       "    'data': [{'type': 'bar', 'uid': '95e78a12-aa1e-11e9-b585-8c859025e7f9', 'x': [], 'y': []}],\n",
       "    'layout': {'plot_bgcolor': '#f5f5f0', 'title': 'graph 1'}\n",
       "})), id='gr1', className='item1', style={'margin-right': 'auto', 'margin-left': 'auto', 'height': '98%', 'width': '98%', 'border': 'thin solid'})])"
      ]
     },
     "metadata": {},
     "output_type": "display_data"
    }
   ],
   "source": [
    "for c in app.layout.children:\n",
    "    display(c)\n",
    "    "
   ]
  },
  {
   "cell_type": "code",
   "execution_count": 79,
   "metadata": {},
   "outputs": [
    {
     "data": {
      "text/plain": [
       "<module 'dashgrid.dgrid' from '/Users/bperlman1/Documents/billybyte/pyliverisk/dashgrid/dashgrid/dgrid.py'>"
      ]
     },
     "execution_count": 79,
     "metadata": {},
     "output_type": "execute_result"
    }
   ],
   "source": [
    "importlib.reload(dgrid)"
   ]
  },
  {
   "cell_type": "code",
   "execution_count": null,
   "metadata": {},
   "outputs": [],
   "source": []
  }
 ],
 "metadata": {
  "kernelspec": {
   "display_name": "Python 3",
   "language": "python",
   "name": "python3"
  },
  "language_info": {
   "codemirror_mode": {
    "name": "ipython",
    "version": 3
   },
   "file_extension": ".py",
   "mimetype": "text/x-python",
   "name": "python",
   "nbconvert_exporter": "python",
   "pygments_lexer": "ipython3",
   "version": "3.6.5"
  }
 },
 "nbformat": 4,
 "nbformat_minor": 2
}
