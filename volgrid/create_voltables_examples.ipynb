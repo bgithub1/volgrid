{
 "cells": [
  {
   "cell_type": "markdown",
   "metadata": {},
   "source": [
    "## create_voltables.VolTable Examples"
   ]
  },
  {
   "cell_type": "code",
   "execution_count": null,
   "metadata": {},
   "outputs": [],
   "source": [
    "import sys,os\n",
    "\n",
    "if  not os.path.abspath('./') in sys.path:\n",
    "    sys.path.append(os.path.abspath('./'))\n",
    "if  not os.path.abspath('../') in sys.path:\n",
    "    sys.path.append(os.path.abspath('../'))\n",
    "sys.path.append(os.path.abspath('../../dashgrid'))\n",
    "sys.path.append(os.path.abspath('../../dashgrid/dashgrid'))\n",
    "# print(sys.path)\n",
    "from dashgrid import dgrid\n",
    "import dash_core_components as dcc\n",
    "import traceback\n",
    "\n",
    "from volgrid import create_voltables\n",
    "import plotly.graph_objs as go\n",
    "from plotly.offline import iplot\n",
    "from plotly.offline import  init_notebook_mode, iplot\n",
    "init_notebook_mode(connected=True)\n",
    "import numpy as np\n",
    "import pandas as pd\n",
    "import pandas_datareader.data as pdr\n",
    "import datetime\n",
    "\n",
    "#  do rest of imports\n",
    "import dash\n",
    "import dash_html_components as html\n",
    "from dash.dependencies import Input, Output,State\n"
   ]
  },
  {
   "cell_type": "markdown",
   "metadata": {},
   "source": [
    "## create a volskew graph for ESM19"
   ]
  },
  {
   "cell_type": "code",
   "execution_count": null,
   "metadata": {},
   "outputs": [],
   "source": [
    "commod = 'ES'\n",
    "year = 19\n",
    "vt = create_voltables.VolTable(f'df_iv_final_{commod}.csv')"
   ]
  },
  {
   "cell_type": "code",
   "execution_count": null,
   "metadata": {
    "scrolled": true
   },
   "outputs": [],
   "source": [
    "all_contracts = sorted(vt.df_iv.symbol.unique())\n",
    "clist = [c for c in all_contracts if (c[:2]==commod) & (c[-2:]==str(year))]\n",
    "for c in clist:\n",
    "    dft = vt.df_iv[vt.df_iv.symbol==c]        \n",
    "    if len(dft)<=0:\n",
    "        print(f'no data for symbol {c}')\n",
    "    else:\n",
    "        fig_list = vt.graph_skew(c)\n",
    "        # create a reactive grid graph\n",
    "        for fig in fig_list:\n",
    "            iplot(fig)\n"
   ]
  },
  {
   "cell_type": "markdown",
   "metadata": {},
   "source": [
    "## create a volskew graph for GEM19"
   ]
  },
  {
   "cell_type": "code",
   "execution_count": null,
   "metadata": {},
   "outputs": [],
   "source": [
    "commod = 'GE'\n",
    "year = 19\n",
    "vt = create_voltables.VolTable(f'df_iv_final_{commod}.csv')"
   ]
  },
  {
   "cell_type": "code",
   "execution_count": null,
   "metadata": {
    "scrolled": true
   },
   "outputs": [],
   "source": [
    "all_contracts = sorted(vt.df_iv.symbol.unique())\n",
    "clist = [c for c in all_contracts if (c[:2]==commod) & (c[-2:]==str(year))]\n",
    "for c in clist:\n",
    "    dft = vt.df_iv[vt.df_iv.symbol==c]        \n",
    "    if len(dft)<=0:\n",
    "        print(f'no data for symbol {c}')\n",
    "    else:\n",
    "        fig_list = vt.graph_skew(c)\n",
    "        # create a reactive grid graph\n",
    "        for fig in fig_list:\n",
    "            iplot(fig)\n"
   ]
  },
  {
   "cell_type": "code",
   "execution_count": null,
   "metadata": {},
   "outputs": [],
   "source": [
    "clist"
   ]
  },
  {
   "cell_type": "code",
   "execution_count": null,
   "metadata": {},
   "outputs": [],
   "source": []
  }
 ],
 "metadata": {
  "kernelspec": {
   "display_name": "Python 3",
   "language": "python",
   "name": "python3"
  },
  "language_info": {
   "codemirror_mode": {
    "name": "ipython",
    "version": 3
   },
   "file_extension": ".py",
   "mimetype": "text/x-python",
   "name": "python",
   "nbconvert_exporter": "python",
   "pygments_lexer": "ipython3",
   "version": "3.6.5"
  }
 },
 "nbformat": 4,
 "nbformat_minor": 2
}
